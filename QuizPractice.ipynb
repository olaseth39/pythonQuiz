{
 "cells": [
  {
   "cell_type": "markdown",
   "id": "761fdae1",
   "metadata": {},
   "source": [
    "### Quest 1008"
   ]
  },
  {
   "cell_type": "code",
   "execution_count": 22,
   "id": "cc1a0ca0",
   "metadata": {},
   "outputs": [],
   "source": [
    "\n",
    "arr = [25, 10, 2, 8, 5, 3]\n",
    "\n",
    "number = []\n",
    "\n",
    "for i in range(len(arr)):\n",
    "    #print(arr[i])\n",
    "    for j in range(len(arr)):\n",
    "        #print(\"this is from j\" , arr[i], \"^\", arr[j],\"=\", arr[i] ^ arr[j])\n",
    "        val = arr[i] ^ arr[j]\n",
    "        #print(val)\n",
    "        number.append(val)"
   ]
  },
  {
   "cell_type": "code",
   "execution_count": null,
   "id": "876d8379",
   "metadata": {},
   "outputs": [],
   "source": [
    "#number"
   ]
  },
  {
   "cell_type": "code",
   "execution_count": null,
   "id": "065f7d01",
   "metadata": {},
   "outputs": [],
   "source": [
    "max(number)"
   ]
  },
  {
   "cell_type": "markdown",
   "id": "37a0ff1c",
   "metadata": {},
   "source": [
    "### Quest 1009"
   ]
  },
  {
   "cell_type": "markdown",
   "id": "980ab2e6",
   "metadata": {},
   "source": [
    "Good morning! Here's your coding interview problem for today.\n",
    "\n",
    "This problem was asked by Coursera.\n",
    "\n",
    "Given a 2D board of characters and a word, find if the word exists in the grid.\n",
    "\n",
    "The word can be constructed from letters of sequentially adjacent cell, where \"adjacent\" cells are those horizontally or vertically neighboring. The same letter cell may not be used more than once.\n",
    "\n",
    "For example, given the following board:"
   ]
  },
  {
   "cell_type": "code",
   "execution_count": 23,
   "id": "87696e75",
   "metadata": {},
   "outputs": [
    {
     "data": {
      "text/plain": [
       "[['A', 'B', 'C', 'E'], ['S', 'F', 'C', 'S'], ['A', 'D', 'E', 'E']]"
      ]
     },
     "execution_count": 23,
     "metadata": {},
     "output_type": "execute_result"
    }
   ],
   "source": [
    "[\n",
    "  ['A','B','C','E'],\n",
    "  ['S','F','C','S'],\n",
    "  ['A','D','E','E']\n",
    "]"
   ]
  },
  {
   "cell_type": "markdown",
   "id": "b79330c3",
   "metadata": {},
   "source": [
    "exists(board, \"ABCCED\") returns true, \n",
    "exists(board, \"SEE\") returns true, \n",
    "exists(board, \"ABCB\") returns false."
   ]
  },
  {
   "cell_type": "code",
   "execution_count": 24,
   "id": "2d2d9bba",
   "metadata": {},
   "outputs": [],
   "source": [
    "mylist = [\n",
    "  ['A','B','C','E'],\n",
    "  ['S','F','C','S'],\n",
    "  ['A','D','E','E']\n",
    "]"
   ]
  },
  {
   "cell_type": "code",
   "execution_count": null,
   "id": "ff1afb3a",
   "metadata": {},
   "outputs": [],
   "source": [
    "len(mylist)"
   ]
  },
  {
   "cell_type": "code",
   "execution_count": 25,
   "id": "86fe5718",
   "metadata": {},
   "outputs": [],
   "source": [
    "board = []\n",
    "for i in range(len(mylist)):\n",
    "    #print(mylist[i][i])\n",
    "    for j in range(len(mylist)+1):\n",
    "        board.append(mylist[i][j])"
   ]
  },
  {
   "cell_type": "code",
   "execution_count": null,
   "id": "99352787",
   "metadata": {},
   "outputs": [],
   "source": [
    "mylist[0].count('AB')"
   ]
  },
  {
   "cell_type": "code",
   "execution_count": null,
   "id": "f670ec2f",
   "metadata": {},
   "outputs": [],
   "source": [
    "lis = 'AKKK'\n",
    "[lis[i] for i in range(len(mylist[i])) if lis[i] in mylist]\n"
   ]
  },
  {
   "cell_type": "code",
   "execution_count": null,
   "id": "defb58ce",
   "metadata": {},
   "outputs": [],
   "source": [
    "import pandas as pd\n",
    "phrase = \"ABCK\"\n",
    "print(pd.Series(list(phrase)).value_counts().index[0])"
   ]
  },
  {
   "cell_type": "code",
   "execution_count": 26,
   "id": "1f31c0e9",
   "metadata": {},
   "outputs": [],
   "source": [
    "#first check for if the letters can be found\n",
    "board = []\n",
    "for i in range(len(mylist)):\n",
    "    #print(mylist[i][i])\n",
    "    for j in range(len(mylist)+1):\n",
    "        board.append(mylist[i][j])"
   ]
  },
  {
   "cell_type": "code",
   "execution_count": 27,
   "id": "09334de3",
   "metadata": {},
   "outputs": [
    {
     "data": {
      "text/plain": [
       "['A', 'B', 'C', 'E', 'S', 'F', 'C', 'S', 'A', 'D', 'E', 'E']"
      ]
     },
     "execution_count": 27,
     "metadata": {},
     "output_type": "execute_result"
    }
   ],
   "source": [
    "board"
   ]
  },
  {
   "cell_type": "code",
   "execution_count": null,
   "id": "823ca1d0",
   "metadata": {},
   "outputs": [],
   "source": [
    "for i in range(len(board)):\n",
    "    pass\n",
    "    "
   ]
  },
  {
   "cell_type": "code",
   "execution_count": null,
   "id": "ed838b83",
   "metadata": {},
   "outputs": [],
   "source": [
    "phrase = \"AAAUCK\"\n",
    "for j in range(len(phrase)):\n",
    "    if phrase[j] not in board:\n",
    "        print('letter',phrase[j],'is Not found in board')"
   ]
  },
  {
   "cell_type": "code",
   "execution_count": 19,
   "id": "43b8ad9e",
   "metadata": {},
   "outputs": [
    {
     "data": {
      "text/plain": [
       "E    3\n",
       "A    2\n",
       "C    2\n",
       "S    2\n",
       "B    1\n",
       "F    1\n",
       "D    1\n",
       "dtype: int64"
      ]
     },
     "execution_count": 19,
     "metadata": {},
     "output_type": "execute_result"
    }
   ],
   "source": [
    "boardcount"
   ]
  },
  {
   "cell_type": "code",
   "execution_count": 18,
   "id": "a632d694",
   "metadata": {},
   "outputs": [
    {
     "data": {
      "text/plain": [
       "'A'"
      ]
     },
     "execution_count": 18,
     "metadata": {},
     "output_type": "execute_result"
    }
   ],
   "source": [
    "wordcount.index[0]"
   ]
  },
  {
   "cell_type": "code",
   "execution_count": 43,
   "id": "63b2f5e7",
   "metadata": {},
   "outputs": [],
   "source": [
    "phrase = \"ABC\"\n",
    "\n",
    "boardcount = pd.Series(list(board)).value_counts()\n",
    "wordcount = pd.Series(list(phrase)).value_counts()\n",
    "for i in range(len(boardcount)):\n",
    "    for j in range(len(wordcount)):\n",
    "        if wordcount.index[j] == boardcount.index[i] and wordcount[j] > boardcount[i]:\n",
    "            print('Not found')"
   ]
  },
  {
   "cell_type": "code",
   "execution_count": null,
   "id": "891ab331",
   "metadata": {},
   "outputs": [],
   "source": [
    "import numpy as np\n"
   ]
  },
  {
   "cell_type": "code",
   "execution_count": 28,
   "id": "4169bac2",
   "metadata": {},
   "outputs": [],
   "source": [
    "def exists(board, phrase):\n",
    "    \n",
    "    # check if phrase is in board\n",
    "    for k in range(len(phrase)):\n",
    "        if phrase[k] not in board:\n",
    "            return 'false, letter {} is not found in board'.format(phrase[k])\n",
    "    \n",
    "    # check if each letter of phrase is more in board or not \n",
    "    boardcount = pd.Series(list(board)).value_counts()\n",
    "    wordcount = pd.Series(list(phrase)).value_counts()\n",
    "    for i in range(len(boardcount)):\n",
    "        for j in range(len(wordcount)):\n",
    "            if wordcount.index[j] == boardcount.index[i] and wordcount[j] > boardcount[i]:\n",
    "                return 'false'\n",
    "            \n",
    "    return 'true'"
   ]
  },
  {
   "cell_type": "code",
   "execution_count": 33,
   "id": "616d9dde",
   "metadata": {},
   "outputs": [
    {
     "data": {
      "text/plain": [
       "'false'"
      ]
     },
     "execution_count": 33,
     "metadata": {},
     "output_type": "execute_result"
    }
   ],
   "source": [
    "exists(board, \"ABCCCED\")"
   ]
  },
  {
   "cell_type": "code",
   "execution_count": 30,
   "id": "8b593d86",
   "metadata": {},
   "outputs": [
    {
     "data": {
      "text/plain": [
       "'true'"
      ]
     },
     "execution_count": 30,
     "metadata": {},
     "output_type": "execute_result"
    }
   ],
   "source": [
    "exists(board, \"SEE\")"
   ]
  },
  {
   "cell_type": "code",
   "execution_count": 32,
   "id": "4971ffa6",
   "metadata": {},
   "outputs": [
    {
     "data": {
      "text/plain": [
       "'false'"
      ]
     },
     "execution_count": 32,
     "metadata": {},
     "output_type": "execute_result"
    }
   ],
   "source": [
    "exists(board, \"ABCB\")"
   ]
  },
  {
   "cell_type": "code",
   "execution_count": 1,
   "id": "0a9218ff",
   "metadata": {},
   "outputs": [
    {
     "name": "stdout",
     "output_type": "stream",
     "text": [
      "Number is 0\n",
      "Number is 1\n",
      "Number is 2\n",
      "Number is 3\n",
      "Number is 4\n",
      "Out of loop\n"
     ]
    }
   ],
   "source": [
    "#research from google\n",
    "\n",
    "number = 0\n",
    "\n",
    "for number in range(10):\n",
    "    if number == 5:\n",
    "        break    # break here\n",
    "\n",
    "    print('Number is ' + str(number))\n",
    "\n",
    "print('Out of loop')"
   ]
  },
  {
   "cell_type": "markdown",
   "id": "148657f8",
   "metadata": {},
   "source": [
    "### Quest 1010"
   ]
  },
  {
   "cell_type": "markdown",
   "id": "05a9126e",
   "metadata": {},
   "source": [
    "This is very simple"
   ]
  },
  {
   "cell_type": "markdown",
   "id": "18b3a223",
   "metadata": {},
   "source": [
    "Good morning! Here's your coding interview problem for today.\n",
    "\n",
    "This problem was asked by Jane Street.\n",
    "\n",
    "The United States uses the imperial system of weights and measures, which means that there are many different, seemingly arbitrary units to measure distance. There are 12 inches in a foot, 3 feet in a yard, 22 yards in a chain, and so on.\n",
    "\n",
    "Create a data structure that can efficiently convert a certain quantity of one unit to the correct amount of any other unit. You should also allow for additional units to be added to the system."
   ]
  },
  {
   "cell_type": "markdown",
   "id": "d14ddfd6",
   "metadata": {},
   "source": [
    "### Quest 1010"
   ]
  },
  {
   "cell_type": "markdown",
   "id": "93800411",
   "metadata": {},
   "source": [
    "Good morning! Here's your coding interview problem for today.\n",
    "\n",
    "This problem was asked by Nvidia.\n",
    "\n",
    "Find the maximum of two numbers without using any if-else statements, branching, or direct comparisons."
   ]
  },
  {
   "cell_type": "code",
   "execution_count": 1,
   "id": "19e3c84a",
   "metadata": {},
   "outputs": [],
   "source": [
    "def maximum(number):\n",
    "    \n",
    "    Number_list = list(number)\n",
    "    \n",
    "    return max(Number_list)"
   ]
  },
  {
   "cell_type": "code",
   "execution_count": 4,
   "id": "95204568",
   "metadata": {},
   "outputs": [
    {
     "data": {
      "text/plain": [
       "9"
      ]
     },
     "execution_count": 4,
     "metadata": {},
     "output_type": "execute_result"
    }
   ],
   "source": [
    "maximum((3,9))"
   ]
  },
  {
   "cell_type": "code",
   "execution_count": 7,
   "id": "8399c656",
   "metadata": {},
   "outputs": [],
   "source": [
    "def maxi(x, y):\n",
    "  abs = absbit32(x,y)\n",
    "  return (x + y + abs)//2  \n",
    "\n",
    "def absbit32( x, y):\n",
    "  sub = x - y\n",
    "  mask = (sub >> 31)\n",
    "  return (sub ^ mask) - mask  "
   ]
  },
  {
   "cell_type": "code",
   "execution_count": 9,
   "id": "daa3cca0",
   "metadata": {},
   "outputs": [
    {
     "data": {
      "text/plain": [
       "105"
      ]
     },
     "execution_count": 9,
     "metadata": {},
     "output_type": "execute_result"
    }
   ],
   "source": [
    "maxi(100,105)"
   ]
  },
  {
   "cell_type": "code",
   "execution_count": 9,
   "id": "c1a89715",
   "metadata": {},
   "outputs": [],
   "source": [
    "def maximum(x, y):\n",
    "    \n",
    "    value = x ^ ((x ^ y) & -(x < y)) \n",
    "    \n",
    "    return value\n",
    "    "
   ]
  },
  {
   "cell_type": "code",
   "execution_count": 11,
   "id": "19e417fc",
   "metadata": {},
   "outputs": [
    {
     "data": {
      "text/plain": [
       "100"
      ]
     },
     "execution_count": 11,
     "metadata": {},
     "output_type": "execute_result"
    }
   ],
   "source": [
    "maximum(40, 100)"
   ]
  },
  {
   "cell_type": "code",
   "execution_count": null,
   "id": "a5a63f82",
   "metadata": {},
   "outputs": [],
   "source": []
  }
 ],
 "metadata": {
  "kernelspec": {
   "display_name": "Python 3 (ipykernel)",
   "language": "python",
   "name": "python3"
  },
  "language_info": {
   "codemirror_mode": {
    "name": "ipython",
    "version": 3
   },
   "file_extension": ".py",
   "mimetype": "text/x-python",
   "name": "python",
   "nbconvert_exporter": "python",
   "pygments_lexer": "ipython3",
   "version": "3.9.12"
  }
 },
 "nbformat": 4,
 "nbformat_minor": 5
}
